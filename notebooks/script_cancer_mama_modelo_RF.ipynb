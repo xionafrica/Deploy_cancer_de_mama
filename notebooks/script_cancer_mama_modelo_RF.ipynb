{
  "cells": [
    {
      "cell_type": "markdown",
      "metadata": {
        "id": "aIVmaDVDhC-L"
      },
      "source": [
        "**Contexto**\n",
        "\n",
        "En 2020, en todo el mundo se diagnosticó cáncer de mama a 2,3 millones de mujeres, y 685 000 fallecieron por esa enfermedad. A fines del mismo año, 7,8 millones de mujeres a las que en los anteriores cinco años se les había diagnosticado cáncer de mama seguían con vida, lo que hace que este cáncer sea el de mayor prevalencia en el mundo.\n",
        "\n",
        "Se estima que, a nivel mundial, los años de vida perdidos ajustados en función de la discapacidad (AVAD) en mujeres con cáncer de mama superan a los debidos a cualquier otro tipo de cáncer.\n",
        "\n",
        "El cáncer de mama afecta a las mujeres de cualquier edad después de la pubertad en todos los países del mundo, pero las tasas aumentan en su vida adulta.\n",
        "\n",
        "Entre las décadas de 1930 y 1970, la mortalidad por cáncer de mama mostró pocos cambios. Las mejoras en la supervivencia empezaron en los años 1980 en países que contaban con programas de detección precoz combinados con diferentes tipos de terapias para contener la enfermedad invasiva.\n",
        "\n",
        "**Descripción**\n",
        "\n",
        "El cáncer de mama se origina en las células del revestimiento (epitelio) de los conductos (85%) o lóbulos (15%) del tejido glandular de los senos. Al comienzo, el tumor canceroso está confinado en el conducto o lóbulo (in situ), donde generalmente no causa síntomas y tiene un mínimo potencial de diseminación (metástasis).\n",
        "\n",
        "Con el paso del tiempo, este cáncer in situ (estadio 0) puede progresar e invadir el tejido mamario circundante (cáncer de mama invasivo), y a continuación propagarse a los ganglios linfáticos cercanos (metástasis regional) u a otros órganos del organismo (metástasis distante). Cuando una mujer muere de cáncer de mama, es como consecuencia de la metástasis generalizada.\n",
        "\n",
        "El tratamiento del cáncer de mama puede ser muy eficaz, en particular cuando la enfermedad se detecta temprano. A menudo el tratamiento consiste en una combinación de extirpación quirúrgica, radioterapia y medicación (terapia hormonal, quimioterapia y/o terapia biológica dirigida) para tratar el cáncer microscópico que se ha propagado del tumor mamario a través de la sangre. Por consiguiente, ese tratamiento, que puede impedir la progresión y diseminación del cáncer, salva vidas.\n",
        "\n",
        "**Estado del arte**\n",
        "\n",
        "El cáncer de mama es el tipo de cáncer más común, con más de 2,2 millones de casos en 2020.\n",
        "\n",
        "Cerca de una de cada 12 mujeres enfermarán de cáncer de mama a lo largo de su vida. El cáncer de mama es la principal causa de mortalidad en las mujeres. En 2020, alrededor de 685 000 mujeres fallecieron como consecuencia de esa enfermedad.\n",
        "\n",
        "La mayoría de los casos de cáncer de mama y de las muertes por esa enfermedad se registran en países de ingresos bajos y medianos.\n",
        "\n",
        "Las disparidades del cáncer de mama entre los países de ingresos elevados y los de ingresos bajos y medianos son considerables. La supervivencia al cáncer de mama a cinco años excede del 90% en los primeros países, mientras que en la India y Sudáfrica es del 66% y el 40%, respectivamente.\n",
        "\n",
        "El mayor porcentaje normalizado por edades[1] de defunciones por cáncer de mama corresponde a África y Polinesia. En el África subsahariana, la mitad de las muertes por cáncer de mama se produce en mujeres menores de 50 años de edad.\n",
        "\n",
        "Desde 1980 se han realizado importantes avances en el tratamiento del cáncer de mama; entre el decenio de 1980 y 2020, en los países de ingresos elevados la mortalidad por cáncer de mama normalizada por edades se redujo en un 40%. En los países de ingresos bajos y medianos esas mejoras todavía no se han logrado.\n",
        "\n",
        "La mejora de los resultados es fruto de la combinación de la detección precoz y las terapias eficaces, basadas en cirugía, radioterapia y farmacoterapia.\n",
        "\n",
        "**Problema a solucionar**\n",
        "\n",
        "Se definió anteriormente el contexto. Cómo podemos ayudar mediante los datos.\n",
        "\n",
        "Aplica los distintos algoritmos vistos en la teoría de este módulo hasta obtener un clasificador con score, accuracy, precision, recall y f1-score igual o superior a 0.95 .\n",
        "\n",
        "No olvides probar a optimizar los diferentes hiperparámetros de cada algoritmo.\n",
        "\n",
        "**Obtención de datos**\n",
        "\n",
        "Todo problema de data science y machine learning no es nada sin sus datos. El primer problema es cómo obtenerlos.\n",
        "\n",
        "Por suerte, en esta ocasión, ya se han recopilado por varios médicos para que podamos trabajar en ello.\n",
        "\n",
        "Enlace a carpeta github con dataset y nombres de las columnas"
      ]
    },
    {
      "cell_type": "markdown",
      "metadata": {
        "id": "12y1t-_ihYBv"
      },
      "source": [
        "# **ETAPAS**"
      ]
    },
    {
      "cell_type": "code",
      "execution_count": null,
      "metadata": {
        "id": "KofH3hWgjtdp"
      },
      "outputs": [],
      "source": [
        "#Librerías necesarias\n",
        "import pandas as pd\n",
        "from sklearn.utils import resample\n",
        "from sklearn.model_selection import train_test_split\n",
        "from sklearn.ensemble import RandomForestClassifier\n",
        "from sklearn.metrics import classification_report, accuracy_score\n",
        "import joblib\n"
      ]
    },
    {
      "cell_type": "markdown",
      "metadata": {
        "id": "vhugA0AZhh7A"
      },
      "source": [
        "##**1 cargar datos**\n"
      ]
    },
    {
      "cell_type": "code",
      "execution_count": null,
      "metadata": {
        "colab": {
          "base_uri": "https://localhost:8080/",
          "height": 206
        },
        "id": "FlI598q4gyJy",
        "outputId": "9ab41236-b894-45d1-b265-bce4bae9a718"
      },
      "outputs": [],
      "source": [
        "\n",
        "\n",
        "# Cargar dataset\n",
        "datos=pd.read_csv('/content/breast-cancer-wisconsin.data.txt')\n",
        "datos.head()\n"
      ]
    },
    {
      "cell_type": "markdown",
      "metadata": {
        "id": "UTIovHnZihLR"
      },
      "source": [
        "#**2 Preprocesar datos**"
      ]
    },
    {
      "cell_type": "code",
      "execution_count": null,
      "metadata": {
        "id": "LF1OJOUsigSM"
      },
      "outputs": [],
      "source": [
        "#Preparar datos\n",
        "datos['Bare Nuclei'] = pd.to_numeric(datos['Bare Nuclei'], errors='coerce')\n",
        "datos.dropna(inplace=True)"
      ]
    },
    {
      "cell_type": "code",
      "execution_count": null,
      "metadata": {
        "id": "B9g9U2b6jD2F"
      },
      "outputs": [],
      "source": [
        "\n",
        "#Balancear clases\n",
        "#Separar clases\n",
        "class_majority = datos[datos['Class'] == 2]\n",
        "class_minority = datos[datos['Class'] == 4]\n",
        "\n",
        "# Aumentar muestras de la clase minoritaria (balanceo)\n",
        "class_minority_upsampled = resample(class_minority,\n",
        "                                    replace=True,  # Re-muestreo con reemplazo\n",
        "                                    n_samples=len(class_majority),  # Igualar tamaño\n",
        "                                    random_state=42)\n",
        "\n",
        "# Crear nuevo dataset balanceado\n",
        "data_balanced = pd.concat([class_majority, class_minority_upsampled])\n",
        "# print(data_balanced['Class'].value_counts())\n",
        "\n",
        "#vamos a convertir la Clase 2 en 0 y la clase 4 en 1\n",
        "\n",
        "data_balanced['Class']=data_balanced['Class'].map({2:0,4:1})\n",
        "\n",
        "# Separar características y variable objetivo\n",
        "X = data_balanced.drop(columns=['Class'])\n",
        "y = data_balanced['Class']"
      ]
    },
    {
      "cell_type": "markdown",
      "metadata": {
        "id": "sy9BP9QKkmmV"
      },
      "source": [
        "#**3 Dividir los datos en entrenamiento y prueba**"
      ]
    },
    {
      "cell_type": "code",
      "execution_count": null,
      "metadata": {
        "id": "B2p5G7WTkT1K"
      },
      "outputs": [],
      "source": [
        "\n",
        "# Dividir en entrenamiento y prueba manteniendo la proporción de clases\n",
        "X_train, X_test, y_train, y_test = train_test_split(X, y, test_size=0.2, stratify=y, random_state=42)"
      ]
    },
    {
      "cell_type": "markdown",
      "metadata": {
        "id": "DtvTVJczklhI"
      },
      "source": [
        "#**4 Entrenar el modelo**"
      ]
    },
    {
      "cell_type": "code",
      "execution_count": null,
      "metadata": {
        "colab": {
          "base_uri": "https://localhost:8080/",
          "height": 81
        },
        "id": "wz7MdNw-Or-2",
        "outputId": "443d2fe4-c09a-41f1-ef8b-8ae45718c57c"
      },
      "outputs": [],
      "source": [
        "\n",
        "#Entranamiento del modelo\n",
        "model = RandomForestClassifier(n_estimators=100, random_state=42)\n",
        "model.fit(X_train, y_train)\n"
      ]
    },
    {
      "cell_type": "markdown",
      "metadata": {
        "id": "6JJ7ZzVNQFUQ"
      },
      "source": [
        "#**5 Evaluar modelo**"
      ]
    },
    {
      "cell_type": "code",
      "execution_count": null,
      "metadata": {
        "colab": {
          "base_uri": "https://localhost:8080/"
        },
        "id": "hzGR93xuQGR3",
        "outputId": "61d04772-8b61-44f1-829e-b8306a3b6eb4"
      },
      "outputs": [
        {
          "name": "stdout",
          "output_type": "stream",
          "text": [
            "Accuracy: 0.9668874172185431\n",
            "Classification Report:\n",
            "               precision    recall  f1-score   support\n",
            "\n",
            "           0       0.99      0.95      0.97        76\n",
            "           1       0.95      0.99      0.97        75\n",
            "\n",
            "    accuracy                           0.97       151\n",
            "   macro avg       0.97      0.97      0.97       151\n",
            "weighted avg       0.97      0.97      0.97       151\n",
            "\n"
          ]
        }
      ],
      "source": [
        "#Evaluamos el modelo\n",
        "\n",
        "y_pred = model.predict(X_test)\n",
        "print(\"Accuracy:\", accuracy_score(y_test, y_pred))\n",
        "print(\"Classification Report:\\n\", classification_report(y_test, y_pred))\n"
      ]
    },
    {
      "cell_type": "markdown",
      "metadata": {
        "id": "9cCNYQjzQfLl"
      },
      "source": [
        "#**6 Guardar modelo**"
      ]
    },
    {
      "cell_type": "code",
      "execution_count": null,
      "metadata": {
        "colab": {
          "base_uri": "https://localhost:8080/"
        },
        "id": "u-NZJpoMQlGG",
        "outputId": "f288d6be-0991-460c-e1a9-71067eebe681"
      },
      "outputs": [],
      "source": [
        "\n",
        "# Guardar modelo\n",
        "joblib.dump(model, 'model_rf.pkl')\n",
        "\n",
        "# (Opcional) Guardar nombres de columnas\n",
        "columnas = X.columns.tolist()\n",
        "joblib.dump(columnas, 'feature_pipeline_rf.pkl')\n"
      ]
    }
  ],
  "metadata": {
    "colab": {
      "provenance": []
    },
    "kernelspec": {
      "display_name": "env",
      "language": "python",
      "name": "python3"
    },
    "language_info": {
      "name": "python",
      "version": "3.12.10"
    }
  },
  "nbformat": 4,
  "nbformat_minor": 0
}
